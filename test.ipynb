{
 "cells": [
  {
   "cell_type": "code",
   "execution_count": 1,
   "metadata": {},
   "outputs": [],
   "source": [
    "import numpy as np\n",
    "import cv2\n",
    "import openpose as op\n",
    "import DTW as dtw\n",
    "import copy"
   ]
  },
  {
   "cell_type": "code",
   "execution_count": 3,
   "metadata": {},
   "outputs": [],
   "source": [
    "np.set_printoptions(threshold=np.inf)"
   ]
  },
  {
   "cell_type": "code",
   "execution_count": 2,
   "metadata": {},
   "outputs": [],
   "source": [
    "ary00 = np.load('models/actor_0/Stop.npy')\n",
    "ary01 = np.load('models/actor_0/Straight.npy')\n",
    "ary02 = np.load('models/actor_0/Pull_Over.npy')\n",
    "ary03 = np.load('models/actor_0/Turn_Left.npy')\n",
    "ary04 = np.load('models/actor_0/Turn_Right.npy')\n",
    "\n",
    "ary10 = np.load('models/actor_1/Stop.npy')\n",
    "ary11 = np.load('models/actor_1/Straight.npy')\n",
    "ary12 = np.load('models/actor_1/Pull_Over.npy')\n",
    "ary13 = np.load('models/actor_1/Turn_Left.npy')\n",
    "ary14 = np.load('models/actor_1/Turn_Right.npy')\n",
    "\n",
    "ary20 = np.load('models/actor_2/Stop.npy')\n",
    "ary21 = np.load('models/actor_2/Straight.npy')\n",
    "ary22 = np.load('models/actor_2/Pull_Over.npy')\n",
    "ary23 = np.load('models/actor_2/Turn_Left.npy')\n",
    "ary24 = np.load('models/actor_2/Turn_Right.npy')\n",
    "\n",
    "ary30 = np.load('models/actor_3/Stop.npy')\n",
    "ary31 = np.load('models/actor_3/Straight.npy')\n",
    "ary32 = np.load('models/actor_3/Pull_Over.npy')\n",
    "ary33 = np.load('models/actor_3/Turn_Left.npy')\n",
    "ary34 = np.load('models/actor_3/Turn_Right.npy')\n",
    "\n",
    "ary40 = np.load('models/actor_4/Stop.npy')\n",
    "ary41 = np.load('models/actor_4/Straight.npy')\n",
    "ary42 = np.load('models/actor_4/Pull_Over.npy')\n",
    "ary43 = np.load('models/actor_4/Turn_Left.npy')\n",
    "ary44 = np.load('models/actor_4/Turn_Right.npy')"
   ]
  },
  {
   "cell_type": "code",
   "execution_count": 3,
   "metadata": {},
   "outputs": [],
   "source": [
    "ary00 = dtw.keychange(ary00)\n",
    "ary01 = dtw.keychange(ary01)\n",
    "ary02 = dtw.keychange(ary02)\n",
    "ary03 = dtw.keychange(ary03)\n",
    "ary04 = dtw.keychange(ary04)\n",
    "\n",
    "ary10 = dtw.keychange(ary10)\n",
    "ary11 = dtw.keychange(ary11)\n",
    "ary12 = dtw.keychange(ary12)\n",
    "ary13 = dtw.keychange(ary13)\n",
    "ary14 = dtw.keychange(ary14)\n",
    "\n",
    "ary20 = dtw.keychange(ary20)\n",
    "ary21 = dtw.keychange(ary21)\n",
    "ary22 = dtw.keychange(ary22)\n",
    "ary23 = dtw.keychange(ary23)\n",
    "ary24 = dtw.keychange(ary24)\n",
    "\n",
    "ary30 = dtw.keychange(ary30)\n",
    "ary31 = dtw.keychange(ary31)\n",
    "ary32 = dtw.keychange(ary32)\n",
    "ary33 = dtw.keychange(ary33)\n",
    "ary34 = dtw.keychange(ary34)\n",
    "\n",
    "ary40 = dtw.keychange(ary40)\n",
    "ary41 = dtw.keychange(ary41)\n",
    "ary42 = dtw.keychange(ary42)\n",
    "ary43 = dtw.keychange(ary43)\n",
    "ary44 = dtw.keychange(ary44)"
   ]
  },
  {
   "cell_type": "code",
   "execution_count": null,
   "metadata": {},
   "outputs": [],
   "source": []
  },
  {
   "cell_type": "code",
   "execution_count": 4,
   "metadata": {},
   "outputs": [],
   "source": [
    "ary00 = dtw.align(ary00,ary00)\n",
    "ary10 = dtw.align(ary00,ary10)\n",
    "ary20 = dtw.align(ary00,ary20)\n",
    "ary30 = dtw.align(ary00,ary30)\n",
    "ary40 = dtw.align(ary00,ary40)"
   ]
  },
  {
   "cell_type": "code",
   "execution_count": 5,
   "metadata": {},
   "outputs": [],
   "source": [
    "d1 = dtw.get_twf(ary00,ary01)\n",
    "d2 = dtw.get_twf(ary00,ary02)\n",
    "d3 = dtw.get_twf(ary00,ary03)\n",
    "d4 = dtw.get_twf(ary00,ary04)"
   ]
  },
  {
   "cell_type": "code",
   "execution_count": 8,
   "metadata": {},
   "outputs": [
    {
     "name": "stdout",
     "output_type": "stream",
     "text": [
      "4733.54590119826\n",
      "6306.207496485043\n",
      "4018.322525938065\n",
      "4597.962701043825\n"
     ]
    }
   ],
   "source": [
    "print(d1[d1.shape[0]-1,d1.shape[1]-1])\n",
    "print(d2[d2.shape[0]-1,d2.shape[1]-1])\n",
    "print(d3[d3.shape[0]-1,d3.shape[1]-1])\n",
    "print(d4[d4.shape[0]-1,d4.shape[1]-1])"
   ]
  },
  {
   "cell_type": "code",
   "execution_count": 20,
   "metadata": {},
   "outputs": [
    {
     "data": {
      "text/plain": [
       "63.39023998959197"
      ]
     },
     "execution_count": 20,
     "metadata": {},
     "output_type": "execute_result"
    }
   ],
   "source": [
    "pow(4018.322525938065,1/2)"
   ]
  },
  {
   "cell_type": "code",
   "execution_count": 9,
   "metadata": {},
   "outputs": [
    {
     "data": {
      "text/plain": [
       "array([[ 0.0000000e+00,  0.0000000e+00],\n",
       "       [-7.0208740e+00,  6.9651321e+01],\n",
       "       [-5.2295151e+01,  6.7876175e+01],\n",
       "       [-6.9740562e+01,  1.4445593e+02],\n",
       "       [-6.4516891e+01,  2.1062003e+02],\n",
       "       [ 4.0011154e+01,  7.1304520e+01],\n",
       "       [ 5.2133438e+01,  1.4622763e+02],\n",
       "       [ 4.6925018e+01,  2.0721677e+02],\n",
       "       [-1.0446899e+01, -8.7765198e+00],\n",
       "       [ 8.6959991e+00, -8.7499847e+00],\n",
       "       [-2.6240585e+01, -1.7994080e+00],\n",
       "       [ 2.0844254e+01,  2.0935059e-02]], dtype=float32)"
      ]
     },
     "execution_count": 9,
     "metadata": {},
     "output_type": "execute_result"
    }
   ],
   "source": [
    "ary00[0]"
   ]
  },
  {
   "cell_type": "code",
   "execution_count": 21,
   "metadata": {},
   "outputs": [
    {
     "data": {
      "text/plain": [
       "array([[ 0.00000000e+00,  0.00000000e+00],\n",
       "       [ 1.58558460e-03,  7.00042801e+01],\n",
       "       [-4.31081085e+01,  7.19863892e+01],\n",
       "       [-5.34471092e+01,  1.50095932e+02],\n",
       "       [-5.75098457e+01,  2.11866776e+02],\n",
       "       [ 4.31998482e+01,  6.99377060e+01],\n",
       "       [ 6.16099434e+01,  1.41914017e+02],\n",
       "       [ 5.96062889e+01,  2.11775818e+02],\n",
       "       [-8.24842739e+00, -8.21992302e+00],\n",
       "       [ 1.03086605e+01, -8.17660713e+00],\n",
       "       [-2.26206169e+01,  4.21691608e+00],\n",
       "       [ 1.85170326e+01,  6.24006796e+00]], dtype=float32)"
      ]
     },
     "execution_count": 21,
     "metadata": {},
     "output_type": "execute_result"
    }
   ],
   "source": [
    "ary10[0]"
   ]
  },
  {
   "cell_type": "code",
   "execution_count": 11,
   "metadata": {},
   "outputs": [
    {
     "data": {
      "text/plain": [
       "9.298029506969316"
      ]
     },
     "execution_count": 11,
     "metadata": {},
     "output_type": "execute_result"
    }
   ],
   "source": [
    "dtw.get_Ed(ary00[0],ary10[0])"
   ]
  },
  {
   "cell_type": "code",
   "execution_count": 14,
   "metadata": {},
   "outputs": [],
   "source": [
    "for i in ary2[0]:\n",
    "    i[0] += 200\n",
    "    i[1] += 180\n",
    "map2 = op.getkeyary(ary2[0])\n",
    "for j in ary1[0]:\n",
    "    j[0] += 200\n",
    "    j[1] += 180\n",
    "map1 = op.getkeyary(ary1[0])"
   ]
  },
  {
   "cell_type": "code",
   "execution_count": 15,
   "metadata": {},
   "outputs": [],
   "source": [
    "cv2.imshow('map1',map1)\n",
    "cv2.imshow('map2',map2)\n",
    "cv2.waitKey(0)\n",
    "cv2.destroyAllWindows()"
   ]
  },
  {
   "cell_type": "code",
   "execution_count": null,
   "metadata": {},
   "outputs": [],
   "source": []
  }
 ],
 "metadata": {
  "kernelspec": {
   "display_name": "Python 3",
   "language": "python",
   "name": "python3"
  },
  "language_info": {
   "codemirror_mode": {
    "name": "ipython",
    "version": 3
   },
   "file_extension": ".py",
   "mimetype": "text/x-python",
   "name": "python",
   "nbconvert_exporter": "python",
   "pygments_lexer": "ipython3",
   "version": "3.7.8"
  }
 },
 "nbformat": 4,
 "nbformat_minor": 4
}
