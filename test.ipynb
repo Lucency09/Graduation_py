{
 "cells": [
  {
   "cell_type": "code",
   "execution_count": 1,
   "metadata": {},
   "outputs": [],
   "source": [
    "import numpy as np\n",
    "import cv2\n",
    "import openpose as op\n",
    "import DTW as dtw\n",
    "import copy\n",
    "import KNN as knn"
   ]
  },
  {
   "cell_type": "code",
   "execution_count": 2,
   "metadata": {},
   "outputs": [],
   "source": [
    "np.set_printoptions(threshold=np.inf)"
   ]
  },
  {
   "cell_type": "code",
   "execution_count": 10,
   "metadata": {},
   "outputs": [
    {
     "data": {
      "text/plain": [
       "3.6800356214255725"
      ]
     },
     "execution_count": 10,
     "metadata": {},
     "output_type": "execute_result"
    }
   ],
   "source": [
    "max(b['Stop'],b['Straight'],b['Pull_Over'],b['Turn_Left'],b['Turn_Right'])"
   ]
  },
  {
   "cell_type": "code",
   "execution_count": 11,
   "metadata": {},
   "outputs": [
    {
     "data": {
      "text/plain": [
       "'Turn_Left'"
      ]
     },
     "execution_count": 11,
     "metadata": {},
     "output_type": "execute_result"
    }
   ],
   "source": [
    "max(b,key=b.get)"
   ]
  },
  {
   "cell_type": "code",
   "execution_count": 12,
   "metadata": {},
   "outputs": [],
   "source": [
    "a = [{'class': 'Turn_Left', 'velue': 205.5392161541624},\n",
    " {'class': 'Turn_Left', 'velue': 228.45535869336518},\n",
    " {'class': 'Stop', 'velue': 714.0868664601774},\n",
    " {'class': 'Straight', 'velue': 764.7045056279263},\n",
    " {'class': 'Stop', 'velue': 789.4588730547124},\n",
    " {'class': 'Straight', 'velue': 914.3370372657279},\n",
    " {'class': 'Turn_Left', 'velue': 1234.6350473510968},\n",
    " {'class': 'Turn_Left', 'velue': 1245.9708821562476},\n",
    " {'class': 'Pull_Over', 'velue': 1427.8065632339576},\n",
    " {'class': 'Pull_Over', 'velue': 1584.1462279026161}]"
   ]
  },
  {
   "cell_type": "code",
   "execution_count": 14,
   "metadata": {},
   "outputs": [],
   "source": [
    "list = np.loadtxt(open(\"ed30.csv\",\"rb\"),delimiter=\",\",skiprows=0)"
   ]
  },
  {
   "cell_type": "code",
   "execution_count": 21,
   "metadata": {},
   "outputs": [
    {
     "data": {
      "text/plain": [
       "array([[  0.        , 136.48702378, 112.40032222, 211.46413894,\n",
       "         81.32829099],\n",
       "       [  0.        ,   0.        , 139.18042767, 200.18824501,\n",
       "        177.27071377],\n",
       "       [  0.        ,   0.        ,   0.        , 160.07406571,\n",
       "         75.28442404],\n",
       "       [  0.        ,   0.        ,   0.        ,   0.        ,\n",
       "        203.12517918],\n",
       "       [  0.        ,   0.        ,   0.        ,   0.        ,\n",
       "          0.        ]])"
      ]
     },
     "execution_count": 21,
     "metadata": {},
     "output_type": "execute_result"
    }
   ],
   "source": [
    "list[15:20,15:20]"
   ]
  },
  {
   "cell_type": "code",
   "execution_count": 2,
   "metadata": {},
   "outputs": [],
   "source": [
    "from tkinter import *"
   ]
  },
  {
   "cell_type": "code",
   "execution_count": 7,
   "metadata": {},
   "outputs": [],
   "source": [
    "windows = Tk()\n",
    "windows.title('识别窗口')\n",
    "windows.mainloop()"
   ]
  },
  {
   "cell_type": "code",
   "execution_count": 2,
   "metadata": {},
   "outputs": [
    {
     "data": {
      "text/plain": [
       "(97, 25, 2)"
      ]
     },
     "execution_count": 2,
     "metadata": {},
     "output_type": "execute_result"
    }
   ],
   "source": [
    "import numpy as np\n",
    "np.load('models/Stop/act_0.npy').shape"
   ]
  },
  {
   "cell_type": "code",
   "execution_count": null,
   "metadata": {},
   "outputs": [],
   "source": []
  }
 ],
 "metadata": {
  "kernelspec": {
   "display_name": "Python 3",
   "language": "python",
   "name": "python3"
  },
  "language_info": {
   "codemirror_mode": {
    "name": "ipython",
    "version": 3
   },
   "file_extension": ".py",
   "mimetype": "text/x-python",
   "name": "python",
   "nbconvert_exporter": "python",
   "pygments_lexer": "ipython3",
   "version": "3.7.8"
  }
 },
 "nbformat": 4,
 "nbformat_minor": 4
}
