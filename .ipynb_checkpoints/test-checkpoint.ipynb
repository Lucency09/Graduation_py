{
 "cells": [
  {
   "cell_type": "code",
   "execution_count": 16,
   "metadata": {},
   "outputs": [],
   "source": [
    "import numpy as np\n",
    "import cv2\n",
    "import openpose as op\n",
    "import DTW as dtw\n",
    "import copy"
   ]
  },
  {
   "cell_type": "code",
   "execution_count": 3,
   "metadata": {},
   "outputs": [],
   "source": [
    "np.set_printoptions(threshold=np.inf)"
   ]
  },
  {
   "cell_type": "code",
   "execution_count": 2,
   "metadata": {},
   "outputs": [],
   "source": [
    "ary00 = np.load('models/actor_0/Stop.npy')\n",
    "ary01 = np.load('models/actor_0/Straight.npy')\n",
    "ary02 = np.load('models/actor_0/Pull_Over.npy')\n",
    "ary03 = np.load('models/actor_0/Turn_Left.npy')\n",
    "ary04 = np.load('models/actor_0/Turn_Right.npy')\n",
    "\n",
    "ary10 = np.load('models/actor_1/Stop.npy')\n",
    "ary11 = np.load('models/actor_1/Straight.npy')\n",
    "ary12 = np.load('models/actor_1/Pull_Over.npy')\n",
    "ary13 = np.load('models/actor_1/Turn_Left.npy')\n",
    "ary14 = np.load('models/actor_1/Turn_Right.npy')\n",
    "\n",
    "ary20 = np.load('models/actor_2/Stop.npy')\n",
    "ary21 = np.load('models/actor_2/Straight.npy')\n",
    "ary22 = np.load('models/actor_2/Pull_Over.npy')\n",
    "ary23 = np.load('models/actor_2/Turn_Left.npy')\n",
    "ary24 = np.load('models/actor_2/Turn_Right.npy')\n",
    "\n",
    "ary30 = np.load('models/actor_3/Stop.npy')\n",
    "ary31 = np.load('models/actor_3/Straight.npy')\n",
    "ary32 = np.load('models/actor_3/Pull_Over.npy')\n",
    "ary33 = np.load('models/actor_3/Turn_Left.npy')\n",
    "ary34 = np.load('models/actor_3/Turn_Right.npy')\n",
    "\n",
    "ary40 = np.load('models/actor_4/Stop.npy')\n",
    "ary41 = np.load('models/actor_4/Straight.npy')\n",
    "ary42 = np.load('models/actor_4/Pull_Over.npy')\n",
    "ary43 = np.load('models/actor_4/Turn_Left.npy')\n",
    "ary44 = np.load('models/actor_4/Turn_Right.npy')"
   ]
  },
  {
   "cell_type": "code",
   "execution_count": 3,
   "metadata": {},
   "outputs": [
    {
     "name": "stdout",
     "output_type": "stream",
     "text": [
      "(93, 25, 2)\n",
      "(206, 25, 2)\n",
      "(263, 25, 2)\n"
     ]
    }
   ],
   "source": [
    "ary00 = dtw.keychange(ary00)\n",
    "ary01 = dtw.keychange(ary01)\n",
    "ary02 = dtw.keychange(ary02)\n",
    "ary03 = dtw.keychange(ary03)\n",
    "ary04 = dtw.keychange(ary04)\n",
    "\n",
    "ary10 = dtw.keychange(ary10)\n",
    "ary11 = dtw.keychange(ary11)\n",
    "ary12 = dtw.keychange(ary12)\n",
    "ary13 = dtw.keychange(ary13)\n",
    "ary14 = dtw.keychange(ary14)\n",
    "\n",
    "ary20 = dtw.keychange(ary20)\n",
    "ary21 = dtw.keychange(ary21)\n",
    "ary22 = dtw.keychange(ary22)\n",
    "ary23 = dtw.keychange(ary23)\n",
    "ary24 = dtw.keychange(ary24)\n",
    "\n",
    "ary30 = dtw.keychange(ary30)\n",
    "ary31 = dtw.keychange(ary31)\n",
    "ary32 = dtw.keychange(ary32)\n",
    "ary33 = dtw.keychange(ary33)\n",
    "ary34 = dtw.keychange(ary34)\n",
    "\n",
    "ary40 = dtw.keychange(ary40)\n",
    "ary41 = dtw.keychange(ary41)\n",
    "ary42 = dtw.keychange(ary42)\n",
    "ary43 = dtw.keychange(ary43)\n",
    "ary44 = dtw.keychange(ary44)"
   ]
  },
  {
   "cell_type": "code",
   "execution_count": 4,
   "metadata": {},
   "outputs": [],
   "source": []
  },
  {
   "cell_type": "code",
   "execution_count": 5,
   "metadata": {},
   "outputs": [],
   "source": [
    "ary00 = dtw.align(ary00,ary00)\n",
    "ary10 = dtw.align(ary00,ary10)\n",
    "ary20 = dtw.align(ary00,ary20)\n",
    "ary30 = dtw.align(ary00,ary30)\n",
    "ary40 = dtw.align(ary00,ary40)"
   ]
  },
  {
   "cell_type": "code",
   "execution_count": 6,
   "metadata": {},
   "outputs": [],
   "source": [
    "d1 = dtw.get_twf(ary00,ary01)\n",
    "d2 = dtw.get_twf(ary00,ary02)\n",
    "d3 = dtw.get_twf(ary00,ary03)\n",
    "d4 = dtw.get_twf(ary00,ary04)"
   ]
  },
  {
   "cell_type": "code",
   "execution_count": 7,
   "metadata": {},
   "outputs": [
    {
     "data": {
      "text/plain": [
       "(206, 93)"
      ]
     },
     "execution_count": 7,
     "metadata": {},
     "output_type": "execute_result"
    }
   ],
   "source": [
    "print(d1[d.shape[0]-1,d.shape[1]-1])\n",
    "print(d2[d.shape[0]-1,d.shape[1]-1])\n",
    "print(d3[d.shape[0]-1,d.shape[1]-1])\n",
    "print(d4[d.shape[0]-1,d.shape[1]-1])"
   ]
  },
  {
   "cell_type": "code",
   "execution_count": 8,
   "metadata": {},
   "outputs": [
    {
     "data": {
      "text/plain": [
       "4733.54590119826"
      ]
     },
     "execution_count": 8,
     "metadata": {},
     "output_type": "execute_result"
    }
   ],
   "source": [
    "d[d.shape[0]-1,d.shape[1]-1]"
   ]
  },
  {
   "cell_type": "code",
   "execution_count": 9,
   "metadata": {},
   "outputs": [
    {
     "data": {
      "text/plain": [
       "18.056007100046898"
      ]
     },
     "execution_count": 9,
     "metadata": {},
     "output_type": "execute_result"
    }
   ],
   "source": [
    "d[0,0]"
   ]
  },
  {
   "cell_type": "code",
   "execution_count": 10,
   "metadata": {},
   "outputs": [
    {
     "data": {
      "text/plain": [
       "array([[ 0.00000000e+00,  0.00000000e+00],\n",
       "       [-7.40051270e-03,  4.53234253e+01],\n",
       "       [-3.30992126e+01,  4.69740295e+01],\n",
       "       [-4.35048981e+01,  1.02680725e+02],\n",
       "       [-3.82830811e+01,  1.49705170e+02],\n",
       "       [ 3.31219635e+01,  4.52297363e+01],\n",
       "       [ 4.69710083e+01,  9.40754700e+01],\n",
       "       [ 4.36054840e+01,  1.44577911e+02],\n",
       "       [-8.62815857e+00, -8.64334106e+00],\n",
       "       [ 6.93795776e+00, -8.71717834e+00],\n",
       "       [-1.90958405e+01, -1.75105286e+00],\n",
       "       [ 1.92317657e+01, -3.46107483e+00]], dtype=float32)"
      ]
     },
     "execution_count": 10,
     "metadata": {},
     "output_type": "execute_result"
    }
   ],
   "source": [
    "ary1[0]"
   ]
  },
  {
   "cell_type": "code",
   "execution_count": 12,
   "metadata": {},
   "outputs": [
    {
     "data": {
      "text/plain": [
       "array([[ 0.0000000e+00,  0.0000000e+00],\n",
       "       [ 2.4430864e-03,  4.5323425e+01],\n",
       "       [-2.8165752e+01,  4.5334503e+01],\n",
       "       [-3.5926987e+01,  9.0812485e+01],\n",
       "       [-3.7589828e+01,  1.3153636e+02],\n",
       "       [ 2.8263531e+01,  4.2260521e+01],\n",
       "       [ 4.0718990e+01,  8.6127289e+01],\n",
       "       [ 4.8522179e+01,  1.2684495e+02],\n",
       "       [-7.7886281e+00, -4.7303367e+00],\n",
       "       [ 6.3268528e+00, -4.7623987e+00],\n",
       "       [-1.5667485e+01,  1.5772456e+00],\n",
       "       [ 1.4167897e+01,  1.5280271e+00]], dtype=float32)"
      ]
     },
     "execution_count": 12,
     "metadata": {},
     "output_type": "execute_result"
    }
   ],
   "source": [
    "ary2[0]"
   ]
  },
  {
   "cell_type": "code",
   "execution_count": 13,
   "metadata": {},
   "outputs": [
    {
     "data": {
      "text/plain": [
       "18.056007100046898"
      ]
     },
     "execution_count": 13,
     "metadata": {},
     "output_type": "execute_result"
    }
   ],
   "source": [
    "dtw.get_Ed(ary1[0],ary0[0])"
   ]
  },
  {
   "cell_type": "code",
   "execution_count": 14,
   "metadata": {},
   "outputs": [],
   "source": [
    "for i in ary2[0]:\n",
    "    i[0] += 200\n",
    "    i[1] += 180\n",
    "map2 = op.getkeyary(ary2[0])\n",
    "for j in ary1[0]:\n",
    "    j[0] += 200\n",
    "    j[1] += 180\n",
    "map1 = op.getkeyary(ary1[0])"
   ]
  },
  {
   "cell_type": "code",
   "execution_count": 15,
   "metadata": {},
   "outputs": [],
   "source": [
    "cv2.imshow('map1',map1)\n",
    "cv2.imshow('map2',map2)\n",
    "cv2.waitKey(0)\n",
    "cv2.destroyAllWindows()"
   ]
  },
  {
   "cell_type": "code",
   "execution_count": 12,
   "metadata": {},
   "outputs": [
    {
     "data": {
      "text/plain": [
       "array([[[  0.       ,   0.       ],\n",
       "        [ -1.2294242,  45.30675  ],\n",
       "        [-28.391546 ,  45.28307  ],\n",
       "        ...,\n",
       "        [  3.9469879,  -3.8792512],\n",
       "        [-15.509539 ,   5.1692867],\n",
       "        [ 11.666097 ,   5.1556373]],\n",
       "\n",
       "       [[  0.       ,   0.       ],\n",
       "        [ -1.2294242,  45.30675  ],\n",
       "        [-28.391546 ,  45.28307  ],\n",
       "        ...,\n",
       "        [  3.9469879,  -3.8792512],\n",
       "        [-15.509539 ,   5.1692867],\n",
       "        [ 11.666097 ,   5.1556373]],\n",
       "\n",
       "       [[  0.       ,   0.       ],\n",
       "        [ -1.2198027,  45.296574 ],\n",
       "        [-28.384342 ,  44.065956 ],\n",
       "        ...,\n",
       "        [  3.948202 ,  -3.882712 ],\n",
       "        [-15.491193 ,   5.1564994],\n",
       "        [ 11.671213 ,   3.927427 ]],\n",
       "\n",
       "       ...,\n",
       "\n",
       "       [[  0.       ,   0.       ],\n",
       "        [  3.8192413,  46.60174  ],\n",
       "        [-22.056051 ,  47.8982   ],\n",
       "        ...,\n",
       "        [  5.118263 ,  -5.1375628],\n",
       "        [-11.715656 ,   7.7478256],\n",
       "        [ 12.961669 ,   2.6242754]],\n",
       "\n",
       "       [[  0.       ,   0.       ],\n",
       "        [  2.61403  ,  46.616516 ],\n",
       "        [-22.060635 ,  47.927757 ],\n",
       "        ...,\n",
       "        [  3.9085696,  -5.1401157],\n",
       "        [-12.938137 ,   6.51746  ],\n",
       "        [ 12.954963 ,   2.6148467]],\n",
       "\n",
       "       [[  0.       ,   0.       ],\n",
       "        [  2.5907817,  45.34173  ],\n",
       "        [-23.293365 ,  47.894753 ],\n",
       "        ...,\n",
       "        [  3.893933 ,  -5.1511216],\n",
       "        [-12.946874 ,   7.7288775],\n",
       "        [ 12.929423 ,   2.5819883]]], dtype=float32)"
      ]
     },
     "execution_count": 12,
     "metadata": {},
     "output_type": "execute_result"
    }
   ],
   "source": []
  },
  {
   "cell_type": "code",
   "execution_count": null,
   "metadata": {},
   "outputs": [],
   "source": []
  }
 ],
 "metadata": {
  "kernelspec": {
   "display_name": "Python 3",
   "language": "python",
   "name": "python3"
  },
  "language_info": {
   "codemirror_mode": {
    "name": "ipython",
    "version": 3
   },
   "file_extension": ".py",
   "mimetype": "text/x-python",
   "name": "python",
   "nbconvert_exporter": "python",
   "pygments_lexer": "ipython3",
   "version": "3.7.8"
  }
 },
 "nbformat": 4,
 "nbformat_minor": 4
}
