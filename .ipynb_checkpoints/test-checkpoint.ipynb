{
 "cells": [
  {
   "cell_type": "code",
   "execution_count": 1,
   "metadata": {},
   "outputs": [],
   "source": [
    "import numpy as np\n",
    "import cv2\n",
    "import openpose as op\n",
    "import DTW as dtw\n",
    "import copy"
   ]
  },
  {
   "cell_type": "code",
   "execution_count": 2,
   "metadata": {},
   "outputs": [],
   "source": [
    "np.set_printoptions(threshold=np.inf)"
   ]
  },
  {
   "cell_type": "code",
   "execution_count": 3,
   "metadata": {},
   "outputs": [
    {
     "name": "stdout",
     "output_type": "stream",
     "text": [
      "1010.8134894858296\n"
     ]
    }
   ],
   "source": [
    "ary1 = dtw.get_videonp('models/Turn_Left/act_0.npy')\n",
    "ary2 = dtw.get_videonp('models/Stop/act_2.npy')\n",
    "d = dtw.get_twf(ary1,ary2)\n",
    "print(d[d.shape[0]-1,d.shape[1]-1])"
   ]
  },
  {
   "cell_type": "code",
   "execution_count": 4,
   "metadata": {},
   "outputs": [
    {
     "name": "stdout",
     "output_type": "stream",
     "text": [
      "565.9890680025335\n"
     ]
    }
   ],
   "source": [
    "ary1 = dtw.get_videonp('models/Turn_Left/act_0.npy')\n",
    "ary2 = dtw.get_videonp('models/Turn_Left/act_2.npy')\n",
    "d = dtw.get_twf(ary1,ary2)\n",
    "print(d[d.shape[0]-1,d.shape[1]-1])"
   ]
  },
  {
   "cell_type": "code",
   "execution_count": 6,
   "metadata": {},
   "outputs": [],
   "source": [
    "dtw.keyplay(ary1)"
   ]
  },
  {
   "cell_type": "code",
   "execution_count": 1,
   "metadata": {},
   "outputs": [],
   "source": [
    "import numpy as np\n",
    "import cv2\n",
    "import openpose as op\n",
    "import DTW as dtw\n",
    "import copy"
   ]
  },
  {
   "cell_type": "code",
   "execution_count": 2,
   "metadata": {},
   "outputs": [],
   "source": [
    "lib = np.array([dtw.get_videonp('models/Stop/act_0.npy'),\n",
    "              dtw.get_videonp('models/Stop/act_1.npy'),\n",
    "              dtw.get_videonp('models/Stop/act_2.npy'),\n",
    "              dtw.get_videonp('models/Stop/act_3.npy'),\n",
    "              dtw.get_videonp('models/Stop/act_4.npy'),\n",
    "              dtw.get_videonp('models/Straight/act_0.npy'),\n",
    "              dtw.get_videonp('models/Straight/act_1.npy'),\n",
    "              dtw.get_videonp('models/Straight/act_2.npy'),\n",
    "              dtw.get_videonp('models/Straight/act_3.npy'),\n",
    "              dtw.get_videonp('models/Straight/act_4.npy'),\n",
    "              dtw.get_videonp('models/Pull_Over/act_0.npy'),\n",
    "              dtw.get_videonp('models/Pull_Over/act_1.npy'),\n",
    "              dtw.get_videonp('models/Pull_Over/act_2.npy'),\n",
    "              dtw.get_videonp('models/Pull_Over/act_3.npy'),\n",
    "              dtw.get_videonp('models/Pull_Over/act_4.npy'),\n",
    "              dtw.get_videonp('models/Turn_Left/act_0.npy'),\n",
    "              dtw.get_videonp('models/Turn_Left/act_1.npy'),\n",
    "              dtw.get_videonp('models/Turn_Left/act_2.npy'),\n",
    "              dtw.get_videonp('models/Turn_Left/act_3.npy'),\n",
    "              dtw.get_videonp('models/Turn_Left/act_4.npy'),\n",
    "              dtw.get_videonp('models/Turn_Right/act_0.npy'),\n",
    "              dtw.get_videonp('models/Turn_Right/act_1.npy'),\n",
    "              dtw.get_videonp('models/Turn_Right/act_2.npy'),\n",
    "              dtw.get_videonp('models/Turn_Right/act_3.npy'),\n",
    "              dtw.get_videonp('models/Turn_Right/act_4.npy')]\n",
    "              )"
   ]
  },
  {
   "cell_type": "code",
   "execution_count": 3,
   "metadata": {
    "scrolled": true,
    "tags": []
   },
   "outputs": [],
   "source": [
    "ary = np.zeros((25,25))"
   ]
  },
  {
   "cell_type": "code",
   "execution_count": 4,
   "metadata": {},
   "outputs": [
    {
     "data": {
      "text/plain": [
       "(129, 12, 2)"
      ]
     },
     "execution_count": 4,
     "metadata": {},
     "output_type": "execute_result"
    }
   ],
   "source": [
    "lib[1].shape"
   ]
  },
  {
   "cell_type": "code",
   "execution_count": null,
   "metadata": {
    "scrolled": true,
    "tags": []
   },
   "outputs": [
    {
     "name": "stdout",
     "output_type": "stream",
     "text": [
      "over 0   0\n",
      "over 0   1\n",
      "over 0   2\n",
      "over 0   3\n",
      "over 0   4\n",
      "over 0   5\n",
      "over 0   6\n",
      "over 0   7\n",
      "over 0   8\n"
     ]
    }
   ],
   "source": [
    "for i in range(25):\n",
    "    for j in range(i,25):     \n",
    "        tem,ary[i,j] = dtw.get_twf(lib[i],lib[j])\n",
    "        print('over', i,' ',j)"
   ]
  },
  {
   "cell_type": "code",
   "execution_count": 13,
   "metadata": {},
   "outputs": [],
   "source": [
    "np.savetxt('ed05.csv',ary,delimiter=',')"
   ]
  },
  {
   "cell_type": "code",
   "execution_count": null,
   "metadata": {},
   "outputs": [],
   "source": []
  }
 ],
 "metadata": {
  "kernelspec": {
   "display_name": "Python 3",
   "language": "python",
   "name": "python3"
  },
  "language_info": {
   "codemirror_mode": {
    "name": "ipython",
    "version": 3
   },
   "file_extension": ".py",
   "mimetype": "text/x-python",
   "name": "python",
   "nbconvert_exporter": "python",
   "pygments_lexer": "ipython3",
   "version": "3.7.8"
  }
 },
 "nbformat": 4,
 "nbformat_minor": 4
}
